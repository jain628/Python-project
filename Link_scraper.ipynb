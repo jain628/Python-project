{
 "cells": [
  {
   "cell_type": "code",
   "execution_count": 12,
   "metadata": {},
   "outputs": [],
   "source": [
    "#PROBLEM-STATEMENT:  find all the links (usually starts with http/https) in a website using regular expression. \n",
    "\n",
    "from urllib.request import urlopen                    # for url \n",
    "import re                                             # regex(regular expression)"
   ]
  },
  {
   "cell_type": "code",
   "execution_count": 14,
   "metadata": {},
   "outputs": [
    {
     "name": "stdout",
     "output_type": "stream",
     "text": [
      "https://www.google.com\n",
      "All the links are :\n",
      " {'https://accounts.google.com', 'https://plus.google.com', 'https://drive.google.com', 'https://mail.google.com', 'https://play.google.com', 'https://www.youtube.com', 'http://schema.org', 'https://www.google.com', 'https://maps.google.co.in', 'http://www.google.co.in', 'https://news.google.co.in', 'https://www.google.co.in'}\n"
     ]
    }
   ],
   "source": [
    "try:\n",
    "    input_website = input()                           # website url is required(any website)\n",
    "    url = input_website                            \n",
    "    website = urlopen(url)                            #opens the url\n",
    "    pattern_check = r\"[http]+s?://[\\w\\.-]+\"           # pattern recognization using regex module to access all the links present\n",
    "    html = str(website.read())                        #reading the website in string mode\n",
    "    links_extract = re.findall(pattern_check,html)    #findall function to extract the links\n",
    "    d=set(links_extract)                              #set is used to remove duplicacy\n",
    "    print(\"All the links are :\\n\",d)                  #result \n",
    "except:\n",
    "    print('Enter Valid url')                          # to validate the url entered\n"
   ]
  },
  {
   "cell_type": "code",
   "execution_count": null,
   "metadata": {},
   "outputs": [],
   "source": []
  }
 ],
 "metadata": {
  "kernelspec": {
   "display_name": "Python 3",
   "language": "python",
   "name": "python3"
  },
  "language_info": {
   "codemirror_mode": {
    "name": "ipython",
    "version": 3
   },
   "file_extension": ".py",
   "mimetype": "text/x-python",
   "name": "python",
   "nbconvert_exporter": "python",
   "pygments_lexer": "ipython3",
   "version": "3.6.5"
  }
 },
 "nbformat": 4,
 "nbformat_minor": 2
}
